{
 "cells": [
  {
   "cell_type": "code",
   "execution_count": 13,
   "id": "8fe9cbdb",
   "metadata": {},
   "outputs": [],
   "source": [
    "import numpy as np\n",
    "import pandas as pd\n",
    "import parking_problem as park\n",
    "import matplotlib.pyplot as plt"
   ]
  },
  {
   "cell_type": "markdown",
   "id": "822ce4b8",
   "metadata": {},
   "source": [
    "Setting up the environment"
   ]
  },
  {
   "cell_type": "code",
   "execution_count": 14,
   "id": "4d8d0d6c",
   "metadata": {},
   "outputs": [],
   "source": [
    "park_slots = 20\n",
    "price_range = 8\n",
    "env = park.Parking_Facility(park_slots, price_range)\n",
    "V = np.zeros(park_slots + 1)\n",
    "pi = np.ones((park_slots + 1, price_range)) / price_range\n",
    "#pi refers to the policy as a two-dimensional array where the (i,j)-th entry gives \n",
    "#the probability of taking action  in state ."
   ]
  },
  {
   "cell_type": "markdown",
   "id": "7860a0af",
   "metadata": {},
   "source": [
    "Policy evaluation"
   ]
  },
  {
   "cell_type": "code",
   "execution_count": 15,
   "id": "58ab43b8",
   "metadata": {},
   "outputs": [],
   "source": [
    "def policy_evaluation(env, V, pi, gamma, theta):\n",
    "    delta = float('inf')\n",
    "    while delta > theta:\n",
    "        delta = 0\n",
    "        for s in env.S:\n",
    "            v = V[s]\n",
    "            bellman_update(env, V, pi, s, gamma)\n",
    "            delta = max(delta, abs(v - V[s]))\n",
    "            \n",
    "    return V"
   ]
  },
  {
   "cell_type": "code",
   "execution_count": 16,
   "id": "fa68355e",
   "metadata": {},
   "outputs": [],
   "source": [
    "def bellman_update(env, V, pi, s, gamma):\n",
    "    actions = pi[s]\n",
    "    G = [0] * len(actions)\n",
    "    \n",
    "    for action in env.A:\n",
    "        transitions = env.transitions(s, action)\n",
    "        \n",
    "        for s_, (r,p) in enumerate(transitions):\n",
    "            G[action] += p * (r + gamma * V[s_])\n",
    "            \n",
    "    V[s] = np.sum(G * actions)"
   ]
  },
  {
   "cell_type": "code",
   "execution_count": 17,
   "id": "25eca32c",
   "metadata": {},
   "outputs": [],
   "source": [
    "park_slots = 20\n",
    "price_range = 8\n",
    "env = park.Parking_Facility(park_slots, price_range)\n",
    "V = np.zeros(park_slots + 1)\n",
    "parking_policy = np.zeros((park_slots + 1, price_range))\n",
    "parking_policy[:, 1] = 1\n",
    "gamma = 0.9\n",
    "theta = 0.1\n",
    "V = policy_evaluation(env, V, parking_policy, gamma, theta)\n"
   ]
  },
  {
   "cell_type": "code",
   "execution_count": 18,
   "id": "29594c17",
   "metadata": {},
   "outputs": [
    {
     "data": {
      "image/png": "[encoded data removed]",
      "text/plain": [
       "<Figure size 900x360 with 3 Axes>"
      ]
     },
     "metadata": {},
     "output_type": "display_data"
    }
   ],
   "source": [
    "park.plot(V, parking_policy)"
   ]
  },
  {
   "cell_type": "code",
   "execution_count": 19,
   "id": "441d6904",
   "metadata": {},
   "outputs": [
    {
     "name": "stdout",
     "output_type": "stream",
     "text": [
      "    States       Value\n",
      "0        0  170.519796\n",
      "1        1  173.078530\n",
      "2        2  175.834561\n",
      "3        3  178.731247\n",
      "4        4  181.726437\n",
      "5        5  184.785409\n",
      "6        6  187.877184\n",
      "7        7  190.972448\n",
      "8        8  194.041803\n",
      "9        9  197.045936\n",
      "10      10  199.952810\n",
      "11      11  202.732133\n",
      "12      12  205.351950\n",
      "13      13  207.778328\n",
      "14      14  209.975027\n",
      "15      15  211.903129\n",
      "16      16  213.520631\n",
      "17      17  214.781959\n",
      "18      18  215.608166\n",
      "19      19  215.933569\n",
      "20      20  202.391146\n"
     ]
    }
   ],
   "source": [
    "States = np.array([i for i in env.S])\n",
    "Value = np.array([i for i in V])\n",
    " \n",
    "#pi = np.array([i for i, e in enumerate(pi) if e != 0])\n",
    "df = pd.DataFrame({'States':States, 'Value':Value})\n",
    "print(df)"
   ]
  },
  {
   "cell_type": "code",
   "execution_count": 20,
   "id": "6b322ef5",
   "metadata": {},
   "outputs": [
    {
     "data": {
      "text/plain": [
       "[0, 1, 2, 3, 4, 5, 6, 7]"
      ]
     },
     "execution_count": 20,
     "metadata": {},
     "output_type": "execute_result"
    }
   ],
   "source": [
    "env.A"
   ]
  },
  {
   "cell_type": "markdown",
   "id": "9e29bf6a",
   "metadata": {},
   "source": [
    "Policy Iteration"
   ]
  },
  {
   "cell_type": "code",
   "execution_count": 28,
   "id": "5ed91600",
   "metadata": {},
   "outputs": [],
   "source": [
    "def policy_change(env, V, pi, gamma):\n",
    "    policy_stable = True\n",
    "    for s in env.S:\n",
    "        old = pi[s].copy()\n",
    "        greedy_policy(env, V, pi, s, gamma)\n",
    "        \n",
    "        if not np.array_equal(pi[s], old):\n",
    "            policy_stable = False\n",
    "            \n",
    "    return pi, policy_stable"
   ]
  },
  {
   "cell_type": "code",
   "execution_count": 46,
   "id": "ff9a96d4",
   "metadata": {},
   "outputs": [],
   "source": [
    "def policy_iteration(env, gamma, theta):\n",
    "    V = np.zeros(len(env.S))\n",
    "    pi = np.ones((len(env.S), len(env.A))) / len(env.A)\n",
    "    policy_stable = False\n",
    "    \n",
    "    while not policy_stable:\n",
    "        V = policy_evaluation(env, V, pi, gamma, theta)\n",
    "        pi, policy_stable = policy_change(env, V, pi, gamma)\n",
    "        \n",
    "    return V, pi"
   ]
  },
  {
   "cell_type": "code",
   "execution_count": 47,
   "id": "5789cc18",
   "metadata": {},
   "outputs": [],
   "source": [
    "def greedy_policy(env, V, pi, s, gamma):\n",
    "    G = [0] * len(env.A)\n",
    "    for action in env.A:\n",
    "        transitions = env.transitions(s, action)\n",
    "        for s_, (r,p) in enumerate(transitions):\n",
    "            G[action] += p * (r + gamma * V[s_])\n",
    "            \n",
    "    best_action = np.argmax(G)\n",
    "    \n",
    "    for i,_ in enumerate(pi[s]):\n",
    "        if i == best_action:\n",
    "            pi[s][i] = 1\n",
    "        else:\n",
    "            pi[s][i] = 0"
   ]
  },
  {
   "cell_type": "code",
   "execution_count": 43,
   "id": "9bf4a459",
   "metadata": {},
   "outputs": [
    {
     "name": "stdout",
     "output_type": "stream",
     "text": [
      "CPU times: user 777 ms, sys: 16.2 ms, total: 793 ms\n",
      "Wall time: 798 ms\n"
     ]
    }
   ],
   "source": [
    "park_slots = 20\n",
    "price_range = 8\n",
    "env = park.Parking_Facility(park_slots, price_range)\n",
    "gamma = 0.75\n",
    "theta = 0.1\n",
    "%time V, pi = policy_iteration(env, gamma, theta)"
   ]
  },
  {
   "cell_type": "code",
   "execution_count": 51,
   "id": "b4ab63db",
   "metadata": {},
   "outputs": [
    {
     "data": {
      "image/png": "[encoded data removed]",
      "text/plain": [
       "<Figure size 900x360 with 3 Axes>"
      ]
     },
     "metadata": {},
     "output_type": "display_data"
    },
    {
     "name": "stdout",
     "output_type": "stream",
     "text": [
      "\n"
     ]
    }
   ],
   "source": [
    "park.plot(V, pi)\n",
    "print(\"\")"
   ]
  },
  {
   "cell_type": "code",
   "execution_count": 52,
   "id": "5b2b39cf",
   "metadata": {},
   "outputs": [
    {
     "name": "stdout",
     "output_type": "stream",
     "text": [
      "    States      Value\n",
      "0        0  56.135080\n",
      "1        1  58.456394\n",
      "2        2  60.910639\n",
      "3        3  63.458680\n",
      "4        4  66.070471\n",
      "5        5  68.720623\n",
      "6        6  71.386030\n",
      "7        7  74.044487\n",
      "8        8  76.673822\n",
      "9        9  79.251301\n",
      "10      10  81.753185\n",
      "11      11  84.139607\n",
      "12      12  86.388672\n",
      "13      13  88.472109\n",
      "14      14  90.359265\n",
      "15      15  92.016715\n",
      "16      16  93.407808\n",
      "17      17  94.539812\n",
      "18      18  95.541252\n",
      "19      19  96.487978\n",
      "20      20  83.858841\n"
     ]
    }
   ],
   "source": [
    "States = np.array([i for i in env.S])\n",
    "Value = np.array([i for i in V])\n",
    " \n",
    "#pi = np.array([i for i, e in enumerate(pi) if e != 0])\n",
    "df = pd.DataFrame({'States':States, 'Value':Value})\n",
    "print(df)"
   ]
  },
  {
   "cell_type": "markdown",
   "id": "fb25393a",
   "metadata": {},
   "source": [
    "Value Iteration"
   ]
  },
  {
   "cell_type": "code",
   "execution_count": 34,
   "id": "a2f6579c",
   "metadata": {},
   "outputs": [],
   "source": [
    "def value_iteration(env, gamma, theta):\n",
    "    V = np.zeros(len(env.S))\n",
    "    while True:\n",
    "        delta = 0\n",
    "        \n",
    "        for s in env.S:\n",
    "            \n",
    "            v = V[s]\n",
    "            optimal_update(env, V, s, gamma)\n",
    "            delta = max(delta, abs(v - V[s]))\n",
    "            \n",
    "        if delta < theta:\n",
    "            break\n",
    "    pi = np.ones((len(env.S), len(env.A))) / len(env.A)\n",
    "    for s in env.S:\n",
    "        greedy_policy(env, V, pi, s, gamma)\n",
    "    return V, pi"
   ]
  },
  {
   "cell_type": "code",
   "execution_count": 35,
   "id": "4d0293fe",
   "metadata": {},
   "outputs": [],
   "source": [
    "def optimal_update(env, V, s, gamma):\n",
    "    opt_val = float('-inf')\n",
    "    for a in env.A:\n",
    "        v = 0\n",
    "        transitions = env.transitions(s,a)\n",
    "        for s_ in env.S:\n",
    "            v += transitions[s_][1] * ( transitions[s_][0] + gamma*V[s_] )\n",
    "        if opt_val < v:\n",
    "            opt_val = v\n",
    "    V[s] = opt_val"
   ]
  },
  {
   "cell_type": "code",
   "execution_count": 44,
   "id": "b3247f0e",
   "metadata": {},
   "outputs": [
    {
     "name": "stdout",
     "output_type": "stream",
     "text": [
      "CPU times: user 520 ms, sys: 10.4 ms, total: 531 ms\n",
      "Wall time: 523 ms\n"
     ]
    }
   ],
   "source": [
    "park_slots = 20\n",
    "price_range = 8\n",
    "env = park.Parking_Facility(park_slots, price_range)\n",
    "gamma = 0.75\n",
    "theta = 0.1\n",
    "%time V, pi = value_iteration(env, gamma, theta)\n",
    "\n"
   ]
  },
  {
   "cell_type": "code",
   "execution_count": 48,
   "id": "f405b48f",
   "metadata": {},
   "outputs": [
    {
     "data": {
      "image/png": "[encoded data removed]",
      "text/plain": [
       "<Figure size 900x360 with 3 Axes>"
      ]
     },
     "metadata": {},
     "output_type": "display_data"
    }
   ],
   "source": [
    "park.plot(V, pi)"
   ]
  },
  {
   "cell_type": "code",
   "execution_count": 49,
   "id": "7a14b956",
   "metadata": {},
   "outputs": [
    {
     "name": "stdout",
     "output_type": "stream",
     "text": [
      "    States      Value\n",
      "0        0  56.135080\n",
      "1        1  58.456394\n",
      "2        2  60.910639\n",
      "3        3  63.458680\n",
      "4        4  66.070471\n",
      "5        5  68.720623\n",
      "6        6  71.386030\n",
      "7        7  74.044487\n",
      "8        8  76.673822\n",
      "9        9  79.251301\n",
      "10      10  81.753185\n",
      "11      11  84.139607\n",
      "12      12  86.388672\n",
      "13      13  88.472109\n",
      "14      14  90.359265\n",
      "15      15  92.016715\n",
      "16      16  93.407808\n",
      "17      17  94.539812\n",
      "18      18  95.541252\n",
      "19      19  96.487978\n",
      "20      20  83.858841\n"
     ]
    }
   ],
   "source": [
    "States = np.array([i for i in env.S])\n",
    "Value = np.array([i for i in V])\n",
    " \n",
    "#pi = np.array([i for i, e in enumerate(pi) if e != 0])\n",
    "df = pd.DataFrame({'States':States, 'Value':Value})\n",
    "print(df)"
   ]
  },
  {
   "cell_type": "code",
   "execution_count": null,
   "id": "7428610c",
   "metadata": {},
   "outputs": [],
   "source": []
  },
  {
   "cell_type": "code",
   "execution_count": null,
   "id": "547a1d42",
   "metadata": {},
   "outputs": [],
   "source": []
  }
 ],
 "metadata": {
  "kernelspec": {
   "display_name": "Python 3 (ipykernel)",
   "language": "python",
   "name": "python3"
  },
  "language_info": {
   "codemirror_mode": {
    "name": "ipython",
    "version": 3
   },
   "file_extension": ".py",
   "mimetype": "text/x-python",
   "name": "python",
   "nbconvert_exporter": "python",
   "pygments_lexer": "ipython3",
   "version": "3.9.12"
  }
 },
 "nbformat": 4,
 "nbformat_minor": 5
}
